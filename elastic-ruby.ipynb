{
 "cells": [
  {
   "cell_type": "code",
   "execution_count": 61,
   "metadata": {},
   "outputs": [
    {
     "data": {
      "text/plain": [
       "{\"_index\"=>\"json_index\", \"_type\"=>\"json\", \"_id\"=>\"1\", \"_version\"=>1, \"result\"=>\"created\", \"_shards\"=>{\"total\"=>2, \"successful\"=>1, \"failed\"=>0}, \"_seq_no\"=>0, \"_primary_term\"=>1}"
      ]
     },
     "execution_count": 61,
     "metadata": {},
     "output_type": "execute_result"
    }
   ],
   "source": [
    "require 'elasticsearch'\n",
    "  \n",
    "client = Elasticsearch::Client.new url: 'http://localhost:9200/', log: true\n",
    "\n",
    "client.create index: 'json_index',\n",
    "              type: 'json',\n",
    "              id: '1',\n",
    "              body: {\n",
    "                request: {\n",
    "                  method: \"GET\",\n",
    "                  url: \"/api/mytest\"\n",
    "                },\n",
    "                response: {\n",
    "                  status: 200,\n",
    "                  body: \"More content\"\n",
    "                }\n",
    "              }\n",
    "              \n",
    "            "
   ]
  },
  {
   "cell_type": "code",
   "execution_count": 51,
   "metadata": {},
   "outputs": [
    {
     "data": {
      "text/plain": [
       "{\"took\"=>4, \"timed_out\"=>false, \"_shards\"=>{\"total\"=>11, \"successful\"=>11, \"skipped\"=>0, \"failed\"=>0}, \"hits\"=>{\"total\"=>1, \"max_score\"=>1.0, \"hits\"=>[{\"_index\"=>\"json_index\", \"_type\"=>\"json\", \"_id\"=>\"6\", \"_score\"=>1.0, \"_source\"=>{\"request\"=>{\"method\"=>\"GET\", \"url\"=>\"/api/mytest\"}, \"response\"=>{\"status\"=>200, \"body\"=>\"More content\"}}}]}}"
      ]
     },
     "execution_count": 51,
     "metadata": {},
     "output_type": "execute_result"
    }
   ],
   "source": [
    "result = client.search q: '_index:json_index'"
   ]
  },
  {
   "cell_type": "code",
   "execution_count": 60,
   "metadata": {},
   "outputs": [
    {
     "data": {
      "text/plain": [
       "[{\"request\"=>{\"method\"=>\"GET\", \"url\"=>\"/api/mytest\"}, \"response\"=>{\"status\"=>200, \"body\"=>\"More content\"}}]"
      ]
     },
     "execution_count": 60,
     "metadata": {},
     "output_type": "execute_result"
    }
   ],
   "source": [
    "result['hits']['hits']\n",
    "  .map do |doc|\n",
    "    doc['_source']\n",
    "  end\n",
    "  .select do |doc|\n",
    "    doc['request'] and doc['response']\n",
    "  end"
   ]
  },
  {
   "cell_type": "code",
   "execution_count": null,
   "metadata": {},
   "outputs": [],
   "source": []
  }
 ],
 "metadata": {
  "kernelspec": {
   "display_name": "Ruby 2.5.3",
   "language": "ruby",
   "name": "ruby"
  },
  "language_info": {
   "file_extension": ".rb",
   "mimetype": "application/x-ruby",
   "name": "ruby",
   "version": "2.5.3"
  }
 },
 "nbformat": 4,
 "nbformat_minor": 2
}
