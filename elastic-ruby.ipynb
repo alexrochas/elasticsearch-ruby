{
 "cells": [
  {
   "cell_type": "code",
   "execution_count": 4,
   "metadata": {},
   "outputs": [
    {
     "data": {
      "text/plain": [
       "{\"_index\"=>\"json_index\", \"_type\"=>\"json\", \"_id\"=>\"3\", \"_version\"=>1, \"result\"=>\"created\", \"_shards\"=>{\"total\"=>2, \"successful\"=>1, \"failed\"=>0}, \"_seq_no\"=>0, \"_primary_term\"=>1}"
      ]
     },
     "execution_count": 4,
     "metadata": {},
     "output_type": "execute_result"
    }
   ],
   "source": [
    "require 'elasticsearch'\n",
    "  \n",
    "client = Elasticsearch::Client.new url: 'http://localhost:9200/', log: true\n",
    "\n",
    "client.create index: 'json_index',\n",
    "              type: 'json',\n",
    "              id: '3',\n",
    "              body: {\n",
    "                request: {\n",
    "                  method: \"GET\",\n",
    "                  url: \"/api/mytest3\"\n",
    "                },\n",
    "                response: {\n",
    "                  status: 200,\n",
    "                  body: \"More content\"\n",
    "                }\n",
    "              }\n",
    "              \n",
    "            "
   ]
  },
  {
   "cell_type": "code",
   "execution_count": 5,
   "metadata": {},
   "outputs": [
    {
     "data": {
      "text/plain": [
       "{\"took\"=>33, \"timed_out\"=>false, \"_shards\"=>{\"total\"=>6, \"successful\"=>6, \"skipped\"=>0, \"failed\"=>0}, \"hits\"=>{\"total\"=>3, \"max_score\"=>1.0, \"hits\"=>[{\"_index\"=>\"json_index\", \"_type\"=>\"json\", \"_id\"=>\"2\", \"_score\"=>1.0, \"_source\"=>{\"request\"=>{\"method\"=>\"GET\", \"url\"=>\"/api/mytest2\"}, \"response\"=>{\"status\"=>200, \"body\"=>\"More content\"}}}, {\"_index\"=>\"json_index\", \"_type\"=>\"json\", \"_id\"=>\"1\", \"_score\"=>1.0, \"_source\"=>{\"request\"=>{\"method\"=>\"GET\", \"url\"=>\"/api/mytest\"}, \"response\"=>{\"status\"=>200, \"body\"=>\"More content\"}}}, {\"_index\"=>\"json_index\", \"_type\"=>\"json\", \"_id\"=>\"3\", \"_score\"=>1.0, \"_source\"=>{\"request\"=>{\"method\"=>\"GET\", \"url\"=>\"/api/mytest3\"}, \"response\"=>{\"status\"=>200, \"body\"=>\"More content\"}}}]}}"
      ]
     },
     "execution_count": 5,
     "metadata": {},
     "output_type": "execute_result"
    }
   ],
   "source": [
    "result = client.search q: '_index:json_index'"
   ]
  },
  {
   "cell_type": "code",
   "execution_count": 6,
   "metadata": {},
   "outputs": [
    {
     "data": {
      "text/plain": [
       "[{\"request\"=>{\"method\"=>\"GET\", \"url\"=>\"/api/mytest2\"}, \"response\"=>{\"status\"=>200, \"body\"=>\"More content\"}}, {\"request\"=>{\"method\"=>\"GET\", \"url\"=>\"/api/mytest\"}, \"response\"=>{\"status\"=>200, \"body\"=>\"More content\"}}, {\"request\"=>{\"method\"=>\"GET\", \"url\"=>\"/api/mytest3\"}, \"response\"=>{\"status\"=>200, \"body\"=>\"More content\"}}]"
      ]
     },
     "execution_count": 6,
     "metadata": {},
     "output_type": "execute_result"
    }
   ],
   "source": [
    "filter_results = result['hits']['hits']\n",
    "  .map do |doc|\n",
    "    doc['_source']\n",
    "  end\n",
    "  .select do |doc|\n",
    "    doc['request'] and doc['response']\n",
    "  end"
   ]
  },
  {
   "cell_type": "code",
   "execution_count": 8,
   "metadata": {},
   "outputs": [
    {
     "name": "stdout",
     "output_type": "stream",
     "text": [
      "{\"request\"=>{\"method\"=>\"GET\", \"url\"=>\"/api/mytest\"}, \"response\"=>{\"status\"=>200, \"body\"=>\"More content\"}}\n",
      "{\"request\"=>{\"method\"=>\"GET\", \"url\"=>\"/api/mytest\"}, \"response\"=>{\"status\"=>200, \"body\"=>\"More content\"}}\n",
      "{\"request\"=>{\"method\"=>\"GET\", \"url\"=>\"/api/mytest\"}, \"response\"=>{\"status\"=>200, \"body\"=>\"More content\"}}\n"
     ]
    },
    {
     "data": {
      "text/plain": [
       "[{\"request\"=>{\"method\"=>\"GET\", \"url\"=>\"/api/mytest\"}, \"response\"=>{\"status\"=>200, \"body\"=>\"More content\"}}, {\"request\"=>{\"method\"=>\"GET\", \"url\"=>\"/api/mytest\"}, \"response\"=>{\"status\"=>200, \"body\"=>\"More content\"}}, {\"request\"=>{\"method\"=>\"GET\", \"url\"=>\"/api/mytest\"}, \"response\"=>{\"status\"=>200, \"body\"=>\"More content\"}}]"
      ]
     },
     "execution_count": 8,
     "metadata": {},
     "output_type": "execute_result"
    }
   ],
   "source": [
    "filter_results.each do |doc|\n",
    "  puts doc\n",
    "end"
   ]
  },
  {
   "cell_type": "code",
   "execution_count": 16,
   "metadata": {},
   "outputs": [
    {
     "data": {
      "application/json": "",
      "text/plain": [
       "#<File:request-mock.json>"
      ]
     },
     "execution_count": 16,
     "metadata": {},
     "output_type": "execute_result"
    }
   ],
   "source": [
    "f = File.new(\"request-mock.json\", \"w\")"
   ]
  },
  {
   "cell_type": "code",
   "execution_count": 17,
   "metadata": {},
   "outputs": [
    {
     "data": {
      "text/plain": [
       "{:mappings=>[{\"request\"=>{\"method\"=>\"GET\", \"url\"=>\"/api/mytest\"}, \"response\"=>{\"status\"=>200, \"body\"=>\"More content\"}}, {\"request\"=>{\"method\"=>\"GET\", \"url\"=>\"/api/mytest\"}, \"response\"=>{\"status\"=>200, \"body\"=>\"More content\"}}, {\"request\"=>{\"method\"=>\"GET\", \"url\"=>\"/api/mytest\"}, \"response\"=>{\"status\"=>200, \"body\"=>\"More content\"}}]}"
      ]
     },
     "execution_count": 17,
     "metadata": {},
     "output_type": "execute_result"
    }
   ],
   "source": [
    "mappings = { :mappings => filter_results } "
   ]
  },
  {
   "cell_type": "code",
   "execution_count": 18,
   "metadata": {},
   "outputs": [
    {
     "data": {
      "text/plain": [
       "\"{\\\"mappings\\\":[{\\\"request\\\":{\\\"method\\\":\\\"GET\\\",\\\"url\\\":\\\"/api/mytest\\\"},\\\"response\\\":{\\\"status\\\":200,\\\"body\\\":\\\"More content\\\"}},{\\\"request\\\":{\\\"method\\\":\\\"GET\\\",\\\"url\\\":\\\"/api/mytest\\\"},\\\"response\\\":{\\\"status\\\":200,\\\"body\\\":\\\"More content\\\"}},{\\\"request\\\":{\\\"method\\\":\\\"GET\\\",\\\"url\\\":\\\"/api/mytest\\\"},\\\"response\\\":{\\\"status\\\":200,\\\"body\\\":\\\"More content\\\"}}]}\""
      ]
     },
     "execution_count": 18,
     "metadata": {},
     "output_type": "execute_result"
    }
   ],
   "source": [
    "require 'json'\n",
    "\n",
    "JSON.generate(mappings)"
   ]
  },
  {
   "cell_type": "code",
   "execution_count": 19,
   "metadata": {},
   "outputs": [
    {
     "data": {
      "text/plain": [
       "553"
      ]
     },
     "execution_count": 19,
     "metadata": {},
     "output_type": "execute_result"
    }
   ],
   "source": [
    "f.write(JSON.pretty_generate(mappings))"
   ]
  },
  {
   "cell_type": "code",
   "execution_count": 20,
   "metadata": {},
   "outputs": [],
   "source": [
    "f.close()"
   ]
  },
  {
   "cell_type": "code",
   "execution_count": 9,
   "metadata": {},
   "outputs": [
    {
     "name": "stdout",
     "output_type": "stream",
     "text": [
      "{\n",
      "  \"request\": {\n",
      "    \"method\": \"GET\",\n",
      "    \"url\": \"/api/mytest2\"\n",
      "  },\n",
      "  \"response\": {\n",
      "    \"status\": 200,\n",
      "    \"bodyFileName\": \"request_body-0.json\",\n",
      "    \"headers\": {\n",
      "      \"Content-type\": \"application/json\"\n",
      "    }\n",
      "  }\n",
      "}\n",
      "{\n",
      "  \"request\": {\n",
      "    \"method\": \"GET\",\n",
      "    \"url\": \"/api/mytest\"\n",
      "  },\n",
      "  \"response\": {\n",
      "    \"status\": 200,\n",
      "    \"bodyFileName\": \"request_body-1.json\",\n",
      "    \"headers\": {\n",
      "      \"Content-type\": \"application/json\"\n",
      "    }\n",
      "  }\n",
      "}\n",
      "{\n",
      "  \"request\": {\n",
      "    \"method\": \"GET\",\n",
      "    \"url\": \"/api/mytest3\"\n",
      "  },\n",
      "  \"response\": {\n",
      "    \"status\": 200,\n",
      "    \"bodyFileName\": \"request_body-2.json\",\n",
      "    \"headers\": {\n",
      "      \"Content-type\": \"application/json\"\n",
      "    }\n",
      "  }\n",
      "}\n"
     ]
    },
    {
     "data": {
      "text/plain": [
       "[{\"request\"=>{\"method\"=>\"GET\", \"url\"=>\"/api/mytest2\"}, \"response\"=>{\"status\"=>200, \"body\"=>\"More content\"}}, {\"request\"=>{\"method\"=>\"GET\", \"url\"=>\"/api/mytest\"}, \"response\"=>{\"status\"=>200, \"body\"=>\"More content\"}}, {\"request\"=>{\"method\"=>\"GET\", \"url\"=>\"/api/mytest3\"}, \"response\"=>{\"status\"=>200, \"body\"=>\"More content\"}}]"
      ]
     },
     "execution_count": 9,
     "metadata": {},
     "output_type": "execute_result"
    }
   ],
   "source": [
    "require 'json'\n",
    "\n",
    "filter_results.each_with_index do |doc, index|\n",
    "  mapping_file = File.new(\"./wiremock/mappings/request_mapping-#{index}.json\", \"w\")\n",
    "  request_file = File.new(\"./wiremock/__files/request_body-#{index}.json\", \"w\")\n",
    "  \n",
    "  json = JSON.pretty_generate({\n",
    "        :request => doc['request'],\n",
    "        :response => {\n",
    "            :status => doc['response']['status'],\n",
    "            :bodyFileName => File.basename(request_file.path),\n",
    "            :headers => {\n",
    "                \"Content-type\" => \"application/json\"\n",
    "              }\n",
    "          }\n",
    "      })\n",
    "  \n",
    "  puts json\n",
    "  \n",
    "  mapping_file.write(json)\n",
    "  mapping_file.close()\n",
    "  \n",
    "  request_file.write(JSON.pretty_generate(\n",
    "      doc['response']['body']\n",
    "    ))\n",
    "  \n",
    "  request_file.close()\n",
    "end"
   ]
  },
  {
   "cell_type": "code",
   "execution_count": null,
   "metadata": {},
   "outputs": [],
   "source": []
  }
 ],
 "metadata": {
  "kernelspec": {
   "display_name": "Ruby 2.5.3",
   "language": "ruby",
   "name": "ruby"
  },
  "language_info": {
   "file_extension": ".rb",
   "mimetype": "application/x-ruby",
   "name": "ruby",
   "version": "2.5.3"
  }
 },
 "nbformat": 4,
 "nbformat_minor": 2
}
